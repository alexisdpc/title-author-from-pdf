{
 "cells": [
  {
   "cell_type": "markdown",
   "metadata": {},
   "source": [
    "## Extract Title and Authors from scientific articles\n",
    "\n",
    "The input is the folder and name of the pdf file. We first extract the text from this file and find the DOI. \n",
    "\n",
    "Using the DOI we do extract the bibliographical data from the web."
   ]
  },
  {
   "cell_type": "code",
   "execution_count": 1,
   "metadata": {},
   "outputs": [
    {
     "name": "stdout",
     "output_type": "stream",
     "text": [
      "8\n"
     ]
    },
    {
     "data": {
      "text/plain": [
       "56610"
      ]
     },
     "execution_count": 1,
     "metadata": {},
     "output_type": "execute_result"
    }
   ],
   "source": [
    "import pathlib, fitz\n",
    "import requests\n",
    "import random\n",
    "\n",
    "paper_number = random.randint(0,18)\n",
    "print(paper_number)\n",
    "\n",
    "# We extract the full text\n",
    "fname = 'examples/paper_'+str(paper_number)+'.pdf'  # get document filename\n",
    "with fitz.open(fname) as doc:  # open document\n",
    "    text = \"\".join([page.get_text() for page in doc])\n",
    "# write as a binary file to support non-ASCII characters\n",
    "pathlib.Path(fname + \".txt\").write_bytes(text.encode()) \n"
   ]
  },
  {
   "cell_type": "code",
   "execution_count": 2,
   "metadata": {},
   "outputs": [],
   "source": [
    "# Function to extract title and author\n",
    "def get_title_author(text: str) -> list:\n",
    "    \"\"\"\n",
    "    Function to get the title and author from scientific papers.\n",
    "    The title and authors are stored in a list\n",
    "\n",
    "    Args:\n",
    "    text (str): the text from the article.\n",
    "        \n",
    "    Returns:\n",
    "    list: two entries, one is the title and the second is the name of the authors.\n",
    "\n",
    "    \"\"\"\n",
    "    doi_index = text.find('doi')\n",
    "    if doi_index == -1:\n",
    "      doi_index = text.find('DOI')\n",
    "    if doi_index == -1:\n",
    "      doi_index == text.find('Doi')  \n",
    "\n",
    "    doi_start = text.find('10', doi_index)  \n",
    "    end_space = text.find(' ', doi_start)\n",
    "    end_line = text.find('\\n', doi_start)\n",
    "    if  end_space < end_line:\n",
    "      doi_end = end_space\n",
    "    else:\n",
    "      doi_end = end_line  \n",
    "    doi_id = text[doi_start:doi_end]\n",
    "\n",
    "    # If the DOI is cut we do a second search:\n",
    "    if len(doi_id)<10:\n",
    "      doi_index2 = text.find('doi', doi_index+1)\n",
    "      doi_start = text.find('10', doi_index2)  \n",
    "      end_space = text.find(' ', doi_start)\n",
    "      end_line = text.find('\\n', doi_start)\n",
    "      if  end_space < end_line:\n",
    "        doi_end = end_space\n",
    "      else:\n",
    "        doi_end = end_line  \n",
    "    doi_id = text[doi_start:doi_end]   \n",
    "    base_url = f\"https://doi.org/{doi_id}\"\n",
    "    headers = {\"Accept\": \"text/bibliography; style=bibtex\"}\n",
    "    response = requests.get(base_url, headers=headers)\n",
    "\n",
    "    if response.status_code == 200:\n",
    "      bibtex = response.text.strip()\n",
    "    else:\n",
    "      print(response.status_code)\n",
    "      print(response.text)\n",
    "      return None\n",
    "\n",
    "    title_init = bibtex.find('title')\n",
    "    title_end = bibtex.find('}', title_init)\n",
    "    author_init = bibtex.find('author')\n",
    "    author_end = bibtex.find('}', author_init)\n",
    "  \n",
    "    title = bibtex[title_init:title_end+1]\n",
    "    authors = bibtex[author_init:author_end+1]\n",
    "    return [title, authors]"
   ]
  },
  {
   "cell_type": "code",
   "execution_count": 3,
   "metadata": {},
   "outputs": [
    {
     "data": {
      "text/plain": [
       "['title={PI3K inhibitors: review and new strategies}',\n",
       " 'author={Zhang, Mingzhen and Jang, Hyunbum and Nussinov, Ruth}']"
      ]
     },
     "execution_count": 3,
     "metadata": {},
     "output_type": "execute_result"
    }
   ],
   "source": [
    "get_title_author(text)"
   ]
  }
 ],
 "metadata": {
  "kernelspec": {
   "display_name": "Python 3",
   "language": "python",
   "name": "python3"
  },
  "language_info": {
   "codemirror_mode": {
    "name": "ipython",
    "version": 3
   },
   "file_extension": ".py",
   "mimetype": "text/x-python",
   "name": "python",
   "nbconvert_exporter": "python",
   "pygments_lexer": "ipython3",
   "version": "3.10.12"
  },
  "orig_nbformat": 4
 },
 "nbformat": 4,
 "nbformat_minor": 2
}
