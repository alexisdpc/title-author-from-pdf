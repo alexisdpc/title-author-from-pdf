{
 "cells": [
  {
   "cell_type": "markdown",
   "metadata": {},
   "source": [
    "## Extract Title and Authors from scientific articles"
   ]
  },
  {
   "cell_type": "code",
   "execution_count": 1,
   "metadata": {},
   "outputs": [
    {
     "name": "stdout",
     "output_type": "stream",
     "text": [
      "8\n"
     ]
    },
    {
     "ename": "FileNotFoundError",
     "evalue": "no such file: 'examples/paper_8.pdf'",
     "output_type": "error",
     "traceback": [
      "\u001b[0;31m---------------------------------------------------------------------------\u001b[0m",
      "\u001b[0;31mFileNotFoundError\u001b[0m                         Traceback (most recent call last)",
      "\u001b[1;32m/home/alexis/Dropbox/Python/git/title-author-from-pdf/QnA_title_author_FINAL.ipynb Cell 2\u001b[0m line \u001b[0;36m1\n\u001b[1;32m      <a href='vscode-notebook-cell:/home/alexis/Dropbox/Python/git/title-author-from-pdf/QnA_title_author_FINAL.ipynb#W1sZmlsZQ%3D%3D?line=7'>8</a>\u001b[0m \u001b[39m# We extract the full text\u001b[39;00m\n\u001b[1;32m      <a href='vscode-notebook-cell:/home/alexis/Dropbox/Python/git/title-author-from-pdf/QnA_title_author_FINAL.ipynb#W1sZmlsZQ%3D%3D?line=8'>9</a>\u001b[0m fname \u001b[39m=\u001b[39m \u001b[39m'\u001b[39m\u001b[39mexamples/paper_\u001b[39m\u001b[39m'\u001b[39m\u001b[39m+\u001b[39m\u001b[39mstr\u001b[39m(paper_number)\u001b[39m+\u001b[39m\u001b[39m'\u001b[39m\u001b[39m.pdf\u001b[39m\u001b[39m'\u001b[39m  \u001b[39m# get document filename\u001b[39;00m\n\u001b[0;32m---> <a href='vscode-notebook-cell:/home/alexis/Dropbox/Python/git/title-author-from-pdf/QnA_title_author_FINAL.ipynb#W1sZmlsZQ%3D%3D?line=9'>10</a>\u001b[0m \u001b[39mwith\u001b[39;00m fitz\u001b[39m.\u001b[39;49mopen(fname) \u001b[39mas\u001b[39;00m doc:  \u001b[39m# open document\u001b[39;00m\n\u001b[1;32m     <a href='vscode-notebook-cell:/home/alexis/Dropbox/Python/git/title-author-from-pdf/QnA_title_author_FINAL.ipynb#W1sZmlsZQ%3D%3D?line=10'>11</a>\u001b[0m     text \u001b[39m=\u001b[39m \u001b[39m\"\u001b[39m\u001b[39m\"\u001b[39m\u001b[39m.\u001b[39mjoin([page\u001b[39m.\u001b[39mget_text() \u001b[39mfor\u001b[39;00m page \u001b[39min\u001b[39;00m doc])\n\u001b[1;32m     <a href='vscode-notebook-cell:/home/alexis/Dropbox/Python/git/title-author-from-pdf/QnA_title_author_FINAL.ipynb#W1sZmlsZQ%3D%3D?line=11'>12</a>\u001b[0m \u001b[39m# write as a binary file to support non-ASCII characters\u001b[39;00m\n",
      "File \u001b[0;32m~/.local/lib/python3.10/site-packages/fitz/fitz.py:4113\u001b[0m, in \u001b[0;36mDocument.__init__\u001b[0;34m(self, filename, stream, filetype, rect, width, height, fontsize)\u001b[0m\n\u001b[1;32m   4111\u001b[0m \u001b[39mif\u001b[39;00m \u001b[39mnot\u001b[39;00m os\u001b[39m.\u001b[39mpath\u001b[39m.\u001b[39mexists(filename):\n\u001b[1;32m   4112\u001b[0m     msg \u001b[39m=\u001b[39m \u001b[39mf\u001b[39m\u001b[39m\"\u001b[39m\u001b[39mno such file: \u001b[39m\u001b[39m'\u001b[39m\u001b[39m{\u001b[39;00mfilename\u001b[39m}\u001b[39;00m\u001b[39m'\u001b[39m\u001b[39m\"\u001b[39m\n\u001b[0;32m-> 4113\u001b[0m     \u001b[39mraise\u001b[39;00m \u001b[39mFileNotFoundError\u001b[39;00m(msg)\n\u001b[1;32m   4114\u001b[0m \u001b[39melif\u001b[39;00m \u001b[39mnot\u001b[39;00m os\u001b[39m.\u001b[39mpath\u001b[39m.\u001b[39misfile(filename):\n\u001b[1;32m   4115\u001b[0m     msg \u001b[39m=\u001b[39m \u001b[39mf\u001b[39m\u001b[39m\"\u001b[39m\u001b[39m'\u001b[39m\u001b[39m{\u001b[39;00mfilename\u001b[39m}\u001b[39;00m\u001b[39m'\u001b[39m\u001b[39m is no file\u001b[39m\u001b[39m\"\u001b[39m\n",
      "\u001b[0;31mFileNotFoundError\u001b[0m: no such file: 'examples/paper_8.pdf'"
     ]
    }
   ],
   "source": [
    "import pathlib, fitz\n",
    "import requests\n",
    "import random\n",
    "\n",
    "paper_number = random.randint(0,18)\n",
    "print(paper_number)\n",
    "\n",
    "# We extract the full text\n",
    "fname = 'examples/paper_'+str(paper_number)+'.pdf'  # get document filename\n",
    "with fitz.open(fname) as doc:  # open document\n",
    "    text = \"\".join([page.get_text() for page in doc])\n",
    "# write as a binary file to support non-ASCII characters\n",
    "pathlib.Path(fname + \".txt\").write_bytes(text.encode()) \n"
   ]
  },
  {
   "cell_type": "code",
   "execution_count": 4,
   "metadata": {},
   "outputs": [],
   "source": [
    "# Function to extract title and author\n",
    "def get_title_author(text: str) -> list:\n",
    "    \"\"\"\n",
    "    Function to get the title and author from scientific papers.\n",
    "    The title and authors are stored in a list.\n",
    "\n",
    "    Args:\n",
    "    text (str): the text from the article.\n",
    "        \n",
    "    Returns:\n",
    "    list: two entries, one is the title and the second is the name of the authors.\n",
    "\n",
    "    \"\"\"\n",
    "    doi_index = text.find('doi')\n",
    "    if doi_index == -1:\n",
    "      doi_index = text.find('DOI')\n",
    "    if doi_index == -1:\n",
    "      doi_index == text.find('Doi')  \n",
    "\n",
    "    doi_start = text.find('10', doi_index)  \n",
    "    end_space = text.find(' ', doi_start)\n",
    "    end_line = text.find('\\n', doi_start)\n",
    "    if  end_space < end_line:\n",
    "      doi_end = end_space\n",
    "    else:\n",
    "      doi_end = end_line  \n",
    "    doi_id = text[doi_start:doi_end]\n",
    "\n",
    "    # If the DOI is cut we do a second search:\n",
    "    if len(doi_id)<10:\n",
    "      doi_index2 = text.find('doi', doi_index+1)\n",
    "      doi_start = text.find('10', doi_index2)  \n",
    "      end_space = text.find(' ', doi_start)\n",
    "      end_line = text.find('\\n', doi_start)\n",
    "      if  end_space < end_line:\n",
    "        doi_end = end_space\n",
    "      else:\n",
    "        doi_end = end_line  \n",
    "    doi_id = text[doi_start:doi_end]   \n",
    "    base_url = f\"https://doi.org/{doi_id}\"\n",
    "    headers = {\"Accept\": \"text/bibliography; style=bibtex\"}\n",
    "    response = requests.get(base_url, headers=headers)\n",
    "\n",
    "    if response.status_code == 200:\n",
    "      bibtex = response.text.strip()\n",
    "    else:\n",
    "      print(response.status_code)\n",
    "      print(response.text)\n",
    "      return None\n",
    "\n",
    "    title_init = bibtex.find('title')\n",
    "    title_end = bibtex.find('}', title_init)\n",
    "    author_init = bibtex.find('author')\n",
    "    author_end = bibtex.find('}', author_init)\n",
    "  \n",
    "    title = bibtex[title_init:title_end+1]\n",
    "    authors = bibtex[author_init:author_end+1]\n",
    "    return [title, authors]"
   ]
  },
  {
   "cell_type": "code",
   "execution_count": 3,
   "metadata": {},
   "outputs": [
    {
     "ename": "NameError",
     "evalue": "name 'text' is not defined",
     "output_type": "error",
     "traceback": [
      "\u001b[0;31m---------------------------------------------------------------------------\u001b[0m",
      "\u001b[0;31mNameError\u001b[0m                                 Traceback (most recent call last)",
      "\u001b[1;32m/home/alexis/Dropbox/Python/git/title-author-from-pdf/QnA_title_author_FINAL.ipynb Cell 4\u001b[0m line \u001b[0;36m1\n\u001b[0;32m----> <a href='vscode-notebook-cell:/home/alexis/Dropbox/Python/git/title-author-from-pdf/QnA_title_author_FINAL.ipynb#W3sZmlsZQ%3D%3D?line=0'>1</a>\u001b[0m get_title_author(text)\n",
      "\u001b[0;31mNameError\u001b[0m: name 'text' is not defined"
     ]
    }
   ],
   "source": [
    "get_title_author(text)"
   ]
  }
 ],
 "metadata": {
  "kernelspec": {
   "display_name": "Python 3",
   "language": "python",
   "name": "python3"
  },
  "language_info": {
   "codemirror_mode": {
    "name": "ipython",
    "version": 3
   },
   "file_extension": ".py",
   "mimetype": "text/x-python",
   "name": "python",
   "nbconvert_exporter": "python",
   "pygments_lexer": "ipython3",
   "version": "3.10.12"
  },
  "orig_nbformat": 4
 },
 "nbformat": 4,
 "nbformat_minor": 2
}
